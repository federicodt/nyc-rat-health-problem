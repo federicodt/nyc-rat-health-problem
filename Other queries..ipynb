{
 "cells": [
  {
   "cell_type": "code",
   "execution_count": 24,
   "id": "c451b745",
   "metadata": {},
   "outputs": [],
   "source": [
    "import requests\n",
    "import pandas as pd\n",
    "import matplotlib as mpl\n",
    "import matplotlib.pyplot as plt\n",
    "from pywaffle import Waffle\n",
    "import matplotlib.pylab as pylab\n",
    "from matplotlib.ticker import FuncFormatter\n",
    "%matplotlib inline\n",
    "import numpy as np\n",
    "import altair as alt\n",
    "from vega_datasets import data"
   ]
  },
  {
   "cell_type": "code",
   "execution_count": 25,
   "id": "d08cdd2a",
   "metadata": {},
   "outputs": [
    {
     "data": {
      "text/html": [
       "<div>\n",
       "<style scoped>\n",
       "    .dataframe tbody tr th:only-of-type {\n",
       "        vertical-align: middle;\n",
       "    }\n",
       "\n",
       "    .dataframe tbody tr th {\n",
       "        vertical-align: top;\n",
       "    }\n",
       "\n",
       "    .dataframe thead th {\n",
       "        text-align: right;\n",
       "    }\n",
       "</style>\n",
       "<table border=\"1\" class=\"dataframe\">\n",
       "  <thead>\n",
       "    <tr style=\"text-align: right;\">\n",
       "      <th></th>\n",
       "      <th>Unique Key</th>\n",
       "      <th>Created Date</th>\n",
       "      <th>Closed Date</th>\n",
       "      <th>Agency</th>\n",
       "      <th>Agency Name</th>\n",
       "      <th>Complaint Type</th>\n",
       "      <th>Descriptor</th>\n",
       "      <th>Location Type</th>\n",
       "      <th>Incident Zip</th>\n",
       "      <th>Incident Address</th>\n",
       "      <th>...</th>\n",
       "      <th>Vehicle Type</th>\n",
       "      <th>Taxi Company Borough</th>\n",
       "      <th>Taxi Pick Up Location</th>\n",
       "      <th>Bridge Highway Name</th>\n",
       "      <th>Bridge Highway Direction</th>\n",
       "      <th>Road Ramp</th>\n",
       "      <th>Bridge Highway Segment</th>\n",
       "      <th>Latitude</th>\n",
       "      <th>Longitude</th>\n",
       "      <th>Location</th>\n",
       "    </tr>\n",
       "  </thead>\n",
       "  <tbody>\n",
       "    <tr>\n",
       "      <th>0</th>\n",
       "      <td>15636547</td>\n",
       "      <td>01/02/2010 09:38:29 AM</td>\n",
       "      <td>NaN</td>\n",
       "      <td>DOHMH</td>\n",
       "      <td>Department of Health and Mental Hygiene</td>\n",
       "      <td>Rodent</td>\n",
       "      <td>Rat Sighting</td>\n",
       "      <td>Other (Explain Below)</td>\n",
       "      <td>11432.0</td>\n",
       "      <td>NaN</td>\n",
       "      <td>...</td>\n",
       "      <td>NaN</td>\n",
       "      <td>NaN</td>\n",
       "      <td>NaN</td>\n",
       "      <td>NaN</td>\n",
       "      <td>NaN</td>\n",
       "      <td>NaN</td>\n",
       "      <td>NaN</td>\n",
       "      <td>40.703342</td>\n",
       "      <td>-73.800203</td>\n",
       "      <td>(40.70334174980328, -73.80020318978804)</td>\n",
       "    </tr>\n",
       "    <tr>\n",
       "      <th>1</th>\n",
       "      <td>15636689</td>\n",
       "      <td>01/02/2010 07:09:56 AM</td>\n",
       "      <td>NaN</td>\n",
       "      <td>DOHMH</td>\n",
       "      <td>Department of Health and Mental Hygiene</td>\n",
       "      <td>Rodent</td>\n",
       "      <td>Rat Sighting</td>\n",
       "      <td>Catch Basin/Sewer</td>\n",
       "      <td>11204.0</td>\n",
       "      <td>NaN</td>\n",
       "      <td>...</td>\n",
       "      <td>NaN</td>\n",
       "      <td>NaN</td>\n",
       "      <td>NaN</td>\n",
       "      <td>NaN</td>\n",
       "      <td>NaN</td>\n",
       "      <td>NaN</td>\n",
       "      <td>NaN</td>\n",
       "      <td>40.608288</td>\n",
       "      <td>-73.977775</td>\n",
       "      <td>(40.60828832742201, -73.97777515791093)</td>\n",
       "    </tr>\n",
       "    <tr>\n",
       "      <th>2</th>\n",
       "      <td>15636710</td>\n",
       "      <td>01/02/2010 09:04:46 AM</td>\n",
       "      <td>NaN</td>\n",
       "      <td>DOHMH</td>\n",
       "      <td>Department of Health and Mental Hygiene</td>\n",
       "      <td>Rodent</td>\n",
       "      <td>Rat Sighting</td>\n",
       "      <td>3+ Family Mixed Use Building</td>\n",
       "      <td>11375.0</td>\n",
       "      <td>68-12 YELLOWSTON BOULEVARD</td>\n",
       "      <td>...</td>\n",
       "      <td>NaN</td>\n",
       "      <td>NaN</td>\n",
       "      <td>NaN</td>\n",
       "      <td>NaN</td>\n",
       "      <td>NaN</td>\n",
       "      <td>NaN</td>\n",
       "      <td>NaN</td>\n",
       "      <td>40.726060</td>\n",
       "      <td>-73.848329</td>\n",
       "      <td>(40.726059538480236, -73.84832900182792)</td>\n",
       "    </tr>\n",
       "    <tr>\n",
       "      <th>3</th>\n",
       "      <td>15636731</td>\n",
       "      <td>01/02/2010 06:27:59 PM</td>\n",
       "      <td>NaN</td>\n",
       "      <td>DOHMH</td>\n",
       "      <td>Department of Health and Mental Hygiene</td>\n",
       "      <td>Rodent</td>\n",
       "      <td>Rat Sighting</td>\n",
       "      <td>3+ Family Mixed Use Building</td>\n",
       "      <td>11233.0</td>\n",
       "      <td>1040 HERKIMER STREET</td>\n",
       "      <td>...</td>\n",
       "      <td>NaN</td>\n",
       "      <td>NaN</td>\n",
       "      <td>NaN</td>\n",
       "      <td>NaN</td>\n",
       "      <td>NaN</td>\n",
       "      <td>NaN</td>\n",
       "      <td>NaN</td>\n",
       "      <td>40.677957</td>\n",
       "      <td>-73.918921</td>\n",
       "      <td>(40.67795748580213, -73.91892129635086)</td>\n",
       "    </tr>\n",
       "    <tr>\n",
       "      <th>4</th>\n",
       "      <td>15636907</td>\n",
       "      <td>01/02/2010 12:50:16 PM</td>\n",
       "      <td>NaN</td>\n",
       "      <td>DOHMH</td>\n",
       "      <td>Department of Health and Mental Hygiene</td>\n",
       "      <td>Rodent</td>\n",
       "      <td>Rat Sighting</td>\n",
       "      <td>3+ Family Apt. Building</td>\n",
       "      <td>10034.0</td>\n",
       "      <td>241 SHERMAN AVENUE</td>\n",
       "      <td>...</td>\n",
       "      <td>NaN</td>\n",
       "      <td>NaN</td>\n",
       "      <td>NaN</td>\n",
       "      <td>NaN</td>\n",
       "      <td>NaN</td>\n",
       "      <td>NaN</td>\n",
       "      <td>NaN</td>\n",
       "      <td>40.866008</td>\n",
       "      <td>-73.919401</td>\n",
       "      <td>(40.86600810878767, -73.9194006525354)</td>\n",
       "    </tr>\n",
       "  </tbody>\n",
       "</table>\n",
       "<p>5 rows × 38 columns</p>\n",
       "</div>"
      ],
      "text/plain": [
       "   Unique Key            Created Date Closed Date Agency  \\\n",
       "0    15636547  01/02/2010 09:38:29 AM         NaN  DOHMH   \n",
       "1    15636689  01/02/2010 07:09:56 AM         NaN  DOHMH   \n",
       "2    15636710  01/02/2010 09:04:46 AM         NaN  DOHMH   \n",
       "3    15636731  01/02/2010 06:27:59 PM         NaN  DOHMH   \n",
       "4    15636907  01/02/2010 12:50:16 PM         NaN  DOHMH   \n",
       "\n",
       "                               Agency Name Complaint Type    Descriptor  \\\n",
       "0  Department of Health and Mental Hygiene         Rodent  Rat Sighting   \n",
       "1  Department of Health and Mental Hygiene         Rodent  Rat Sighting   \n",
       "2  Department of Health and Mental Hygiene         Rodent  Rat Sighting   \n",
       "3  Department of Health and Mental Hygiene         Rodent  Rat Sighting   \n",
       "4  Department of Health and Mental Hygiene         Rodent  Rat Sighting   \n",
       "\n",
       "                  Location Type  Incident Zip            Incident Address  \\\n",
       "0         Other (Explain Below)       11432.0                         NaN   \n",
       "1             Catch Basin/Sewer       11204.0                         NaN   \n",
       "2  3+ Family Mixed Use Building       11375.0  68-12 YELLOWSTON BOULEVARD   \n",
       "3  3+ Family Mixed Use Building       11233.0        1040 HERKIMER STREET   \n",
       "4       3+ Family Apt. Building       10034.0          241 SHERMAN AVENUE   \n",
       "\n",
       "   ... Vehicle Type Taxi Company Borough Taxi Pick Up Location  \\\n",
       "0  ...          NaN                  NaN                   NaN   \n",
       "1  ...          NaN                  NaN                   NaN   \n",
       "2  ...          NaN                  NaN                   NaN   \n",
       "3  ...          NaN                  NaN                   NaN   \n",
       "4  ...          NaN                  NaN                   NaN   \n",
       "\n",
       "  Bridge Highway Name Bridge Highway Direction Road Ramp  \\\n",
       "0                 NaN                      NaN       NaN   \n",
       "1                 NaN                      NaN       NaN   \n",
       "2                 NaN                      NaN       NaN   \n",
       "3                 NaN                      NaN       NaN   \n",
       "4                 NaN                      NaN       NaN   \n",
       "\n",
       "  Bridge Highway Segment   Latitude  Longitude  \\\n",
       "0                    NaN  40.703342 -73.800203   \n",
       "1                    NaN  40.608288 -73.977775   \n",
       "2                    NaN  40.726060 -73.848329   \n",
       "3                    NaN  40.677957 -73.918921   \n",
       "4                    NaN  40.866008 -73.919401   \n",
       "\n",
       "                                   Location  \n",
       "0   (40.70334174980328, -73.80020318978804)  \n",
       "1   (40.60828832742201, -73.97777515791093)  \n",
       "2  (40.726059538480236, -73.84832900182792)  \n",
       "3   (40.67795748580213, -73.91892129635086)  \n",
       "4    (40.86600810878767, -73.9194006525354)  \n",
       "\n",
       "[5 rows x 38 columns]"
      ]
     },
     "execution_count": 25,
     "metadata": {},
     "output_type": "execute_result"
    }
   ],
   "source": [
    "df = pd.read_csv(\"NYC Open Databases\\Rat_Sightings.csv\", low_memory=False)\n",
    "df.head()"
   ]
  },
  {
   "cell_type": "code",
   "execution_count": 26,
   "id": "7d5dbe61",
   "metadata": {},
   "outputs": [
    {
     "data": {
      "text/plain": [
       "Unique Key                          int64\n",
       "Created Date                       object\n",
       "Closed Date                        object\n",
       "Agency                             object\n",
       "Agency Name                        object\n",
       "Complaint Type                     object\n",
       "Descriptor                         object\n",
       "Location Type                      object\n",
       "Incident Zip                      float64\n",
       "Incident Address                   object\n",
       "Street Name                        object\n",
       "Cross Street 1                     object\n",
       "Cross Street 2                     object\n",
       "Intersection Street 1              object\n",
       "Intersection Street 2              object\n",
       "Address Type                       object\n",
       "City                               object\n",
       "Landmark                           object\n",
       "Facility Type                     float64\n",
       "Status                             object\n",
       "Due Date                           object\n",
       "Resolution Action Updated Date     object\n",
       "Community Board                    object\n",
       "Borough                            object\n",
       "X Coordinate (State Plane)        float64\n",
       "Y Coordinate (State Plane)        float64\n",
       "Park Facility Name                 object\n",
       "Park Borough                       object\n",
       "Vehicle Type                      float64\n",
       "Taxi Company Borough              float64\n",
       "Taxi Pick Up Location             float64\n",
       "Bridge Highway Name               float64\n",
       "Bridge Highway Direction          float64\n",
       "Road Ramp                         float64\n",
       "Bridge Highway Segment            float64\n",
       "Latitude                          float64\n",
       "Longitude                         float64\n",
       "Location                           object\n",
       "dtype: object"
      ]
     },
     "execution_count": 26,
     "metadata": {},
     "output_type": "execute_result"
    }
   ],
   "source": [
    "df.dtypes"
   ]
  },
  {
   "cell_type": "code",
   "execution_count": 27,
   "id": "33726012",
   "metadata": {},
   "outputs": [
    {
     "data": {
      "text/plain": [
       "0         2010\n",
       "1         2010\n",
       "2         2010\n",
       "3         2010\n",
       "4         2010\n",
       "          ... \n",
       "220512    2023\n",
       "220513    2023\n",
       "220514    2023\n",
       "220515    2023\n",
       "220516    2023\n",
       "Name: year, Length: 220517, dtype: int32"
      ]
     },
     "execution_count": 27,
     "metadata": {},
     "output_type": "execute_result"
    }
   ],
   "source": [
    "df['year'] = pd.DatetimeIndex(df['Created Date']).year\n",
    "df['year']"
   ]
  },
  {
   "cell_type": "code",
   "execution_count": 28,
   "id": "3a84e650",
   "metadata": {},
   "outputs": [
    {
     "data": {
      "text/html": [
       "<div>\n",
       "<style scoped>\n",
       "    .dataframe tbody tr th:only-of-type {\n",
       "        vertical-align: middle;\n",
       "    }\n",
       "\n",
       "    .dataframe tbody tr th {\n",
       "        vertical-align: top;\n",
       "    }\n",
       "\n",
       "    .dataframe thead th {\n",
       "        text-align: right;\n",
       "    }\n",
       "</style>\n",
       "<table border=\"1\" class=\"dataframe\">\n",
       "  <thead>\n",
       "    <tr style=\"text-align: right;\">\n",
       "      <th></th>\n",
       "      <th>year</th>\n",
       "      <th>Borough</th>\n",
       "      <th>count</th>\n",
       "    </tr>\n",
       "  </thead>\n",
       "  <tbody>\n",
       "    <tr>\n",
       "      <th>0</th>\n",
       "      <td>2010</td>\n",
       "      <td>BROOKLYN</td>\n",
       "      <td>3399</td>\n",
       "    </tr>\n",
       "    <tr>\n",
       "      <th>1</th>\n",
       "      <td>2010</td>\n",
       "      <td>MANHATTAN</td>\n",
       "      <td>2867</td>\n",
       "    </tr>\n",
       "    <tr>\n",
       "      <th>2</th>\n",
       "      <td>2010</td>\n",
       "      <td>BRONX</td>\n",
       "      <td>2067</td>\n",
       "    </tr>\n",
       "    <tr>\n",
       "      <th>3</th>\n",
       "      <td>2010</td>\n",
       "      <td>QUEENS</td>\n",
       "      <td>1569</td>\n",
       "    </tr>\n",
       "    <tr>\n",
       "      <th>4</th>\n",
       "      <td>2010</td>\n",
       "      <td>STATEN ISLAND</td>\n",
       "      <td>632</td>\n",
       "    </tr>\n",
       "    <tr>\n",
       "      <th>...</th>\n",
       "      <td>...</td>\n",
       "      <td>...</td>\n",
       "      <td>...</td>\n",
       "    </tr>\n",
       "    <tr>\n",
       "      <th>70</th>\n",
       "      <td>2023</td>\n",
       "      <td>MANHATTAN</td>\n",
       "      <td>3186</td>\n",
       "    </tr>\n",
       "    <tr>\n",
       "      <th>71</th>\n",
       "      <td>2023</td>\n",
       "      <td>QUEENS</td>\n",
       "      <td>2073</td>\n",
       "    </tr>\n",
       "    <tr>\n",
       "      <th>72</th>\n",
       "      <td>2023</td>\n",
       "      <td>BRONX</td>\n",
       "      <td>1608</td>\n",
       "    </tr>\n",
       "    <tr>\n",
       "      <th>73</th>\n",
       "      <td>2023</td>\n",
       "      <td>STATEN ISLAND</td>\n",
       "      <td>312</td>\n",
       "    </tr>\n",
       "    <tr>\n",
       "      <th>74</th>\n",
       "      <td>2023</td>\n",
       "      <td>Unspecified</td>\n",
       "      <td>3</td>\n",
       "    </tr>\n",
       "  </tbody>\n",
       "</table>\n",
       "<p>75 rows × 3 columns</p>\n",
       "</div>"
      ],
      "text/plain": [
       "    year        Borough  count\n",
       "0   2010       BROOKLYN   3399\n",
       "1   2010      MANHATTAN   2867\n",
       "2   2010          BRONX   2067\n",
       "3   2010         QUEENS   1569\n",
       "4   2010  STATEN ISLAND    632\n",
       "..   ...            ...    ...\n",
       "70  2023      MANHATTAN   3186\n",
       "71  2023         QUEENS   2073\n",
       "72  2023          BRONX   1608\n",
       "73  2023  STATEN ISLAND    312\n",
       "74  2023    Unspecified      3\n",
       "\n",
       "[75 rows x 3 columns]"
      ]
     },
     "execution_count": 28,
     "metadata": {},
     "output_type": "execute_result"
    }
   ],
   "source": [
    "year_borough = df.groupby('year').Borough.value_counts().reset_index()\n",
    "year_borough"
   ]
  },
  {
   "cell_type": "code",
   "execution_count": 29,
   "id": "f6101385",
   "metadata": {},
   "outputs": [
    {
     "data": {
      "text/html": [
       "<div>\n",
       "<style scoped>\n",
       "    .dataframe tbody tr th:only-of-type {\n",
       "        vertical-align: middle;\n",
       "    }\n",
       "\n",
       "    .dataframe tbody tr th {\n",
       "        vertical-align: top;\n",
       "    }\n",
       "\n",
       "    .dataframe thead th {\n",
       "        text-align: right;\n",
       "    }\n",
       "</style>\n",
       "<table border=\"1\" class=\"dataframe\">\n",
       "  <thead>\n",
       "    <tr style=\"text-align: right;\">\n",
       "      <th></th>\n",
       "      <th>year</th>\n",
       "      <th>Borough</th>\n",
       "      <th>count</th>\n",
       "    </tr>\n",
       "  </thead>\n",
       "  <tbody>\n",
       "    <tr>\n",
       "      <th>53</th>\n",
       "      <td>2020</td>\n",
       "      <td>BROOKLYN</td>\n",
       "      <td>5995</td>\n",
       "    </tr>\n",
       "    <tr>\n",
       "      <th>54</th>\n",
       "      <td>2020</td>\n",
       "      <td>MANHATTAN</td>\n",
       "      <td>4180</td>\n",
       "    </tr>\n",
       "    <tr>\n",
       "      <th>55</th>\n",
       "      <td>2020</td>\n",
       "      <td>BRONX</td>\n",
       "      <td>2762</td>\n",
       "    </tr>\n",
       "    <tr>\n",
       "      <th>56</th>\n",
       "      <td>2020</td>\n",
       "      <td>QUEENS</td>\n",
       "      <td>2711</td>\n",
       "    </tr>\n",
       "    <tr>\n",
       "      <th>57</th>\n",
       "      <td>2020</td>\n",
       "      <td>STATEN ISLAND</td>\n",
       "      <td>614</td>\n",
       "    </tr>\n",
       "  </tbody>\n",
       "</table>\n",
       "</div>"
      ],
      "text/plain": [
       "    year        Borough  count\n",
       "53  2020       BROOKLYN   5995\n",
       "54  2020      MANHATTAN   4180\n",
       "55  2020          BRONX   2762\n",
       "56  2020         QUEENS   2711\n",
       "57  2020  STATEN ISLAND    614"
      ]
     },
     "execution_count": 29,
     "metadata": {},
     "output_type": "execute_result"
    }
   ],
   "source": [
    "year2020 = year_borough.loc[year_borough['year'] == 2020]\n",
    "year2020"
   ]
  },
  {
   "cell_type": "code",
   "execution_count": 30,
   "id": "f34acaa3",
   "metadata": {},
   "outputs": [
    {
     "data": {
      "text/plain": [
       "16262"
      ]
     },
     "execution_count": 30,
     "metadata": {},
     "output_type": "execute_result"
    }
   ],
   "source": [
    "year2020['count'].sum()"
   ]
  },
  {
   "cell_type": "code",
   "execution_count": 31,
   "id": "b6b17c18",
   "metadata": {},
   "outputs": [
    {
     "data": {
      "text/plain": [
       "<Axes: xlabel='Borough'>"
      ]
     },
     "execution_count": 31,
     "metadata": {},
     "output_type": "execute_result"
    },
    {
     "data": {
      "image/png": "[encoded data removed]",
      "text/plain": [
       "<Figure size 700x500 with 1 Axes>"
      ]
     },
     "metadata": {},
     "output_type": "display_data"
    }
   ],
   "source": [
    "year2020.sort_values(by='count', ascending=False).plot(x='Borough', y='count', ylim=(0, 10000), kind='bar', figsize=(7,5))"
   ]
  },
  {
   "cell_type": "code",
   "execution_count": 32,
   "id": "d06ba788",
   "metadata": {},
   "outputs": [
    {
     "data": {
      "text/html": [
       "\n",
       "<style>\n",
       "  #altair-viz-b9852a0bfc1d40b39d4cb459db0b1c56.vega-embed {\n",
       "    width: 100%;\n",
       "    display: flex;\n",
       "  }\n",
       "\n",
       "  #altair-viz-b9852a0bfc1d40b39d4cb459db0b1c56.vega-embed details,\n",
       "  #altair-viz-b9852a0bfc1d40b39d4cb459db0b1c56.vega-embed details summary {\n",
       "    position: relative;\n",
       "  }\n",
       "</style>\n",
       "<div id=\"altair-viz-b9852a0bfc1d40b39d4cb459db0b1c56\"></div>\n",
       "<script type=\"text/javascript\">\n",
       "  var VEGA_DEBUG = (typeof VEGA_DEBUG == \"undefined\") ? {} : VEGA_DEBUG;\n",
       "  (function(spec, embedOpt){\n",
       "    let outputDiv = document.currentScript.previousElementSibling;\n",
       "    if (outputDiv.id !== \"altair-viz-b9852a0bfc1d40b39d4cb459db0b1c56\") {\n",
       "      outputDiv = document.getElementById(\"altair-viz-b9852a0bfc1d40b39d4cb459db0b1c56\");\n",
       "    }\n",
       "    const paths = {\n",
       "      \"vega\": \"https://cdn.jsdelivr.net/npm/vega@5?noext\",\n",
       "      \"vega-lib\": \"https://cdn.jsdelivr.net/npm/vega-lib?noext\",\n",
       "      \"vega-lite\": \"https://cdn.jsdelivr.net/npm/vega-lite@5.8.0?noext\",\n",
       "      \"vega-embed\": \"https://cdn.jsdelivr.net/npm/vega-embed@6?noext\",\n",
       "    };\n",
       "\n",
       "    function maybeLoadScript(lib, version) {\n",
       "      var key = `${lib.replace(\"-\", \"\")}_version`;\n",
       "      return (VEGA_DEBUG[key] == version) ?\n",
       "        Promise.resolve(paths[lib]) :\n",
       "        new Promise(function(resolve, reject) {\n",
       "          var s = document.createElement('script');\n",
       "          document.getElementsByTagName(\"head\")[0].appendChild(s);\n",
       "          s.async = true;\n",
       "          s.onload = () => {\n",
       "            VEGA_DEBUG[key] = version;\n",
       "            return resolve(paths[lib]);\n",
       "          };\n",
       "          s.onerror = () => reject(`Error loading script: ${paths[lib]}`);\n",
       "          s.src = paths[lib];\n",
       "        });\n",
       "    }\n",
       "\n",
       "    function showError(err) {\n",
       "      outputDiv.innerHTML = `<div class=\"error\" style=\"color:red;\">${err}</div>`;\n",
       "      throw err;\n",
       "    }\n",
       "\n",
       "    function displayChart(vegaEmbed) {\n",
       "      vegaEmbed(outputDiv, spec, embedOpt)\n",
       "        .catch(err => showError(`Javascript Error: ${err.message}<br>This usually means there's a typo in your chart specification. See the javascript console for the full traceback.`));\n",
       "    }\n",
       "\n",
       "    if(typeof define === \"function\" && define.amd) {\n",
       "      requirejs.config({paths});\n",
       "      require([\"vega-embed\"], displayChart, err => showError(`Error loading script: ${err.message}`));\n",
       "    } else {\n",
       "      maybeLoadScript(\"vega\", \"5\")\n",
       "        .then(() => maybeLoadScript(\"vega-lite\", \"5.8.0\"))\n",
       "        .then(() => maybeLoadScript(\"vega-embed\", \"6\"))\n",
       "        .catch(showError)\n",
       "        .then(() => displayChart(vegaEmbed));\n",
       "    }\n",
       "  })({\"config\": {\"view\": {\"continuousWidth\": 300, \"continuousHeight\": 300, \"strokeWidth\": 0}, \"axis\": {\"grid\": false, \"labelFontSize\": 13, \"titleFontSize\": 18}, \"title\": {\"fontSize\": 20}}, \"layer\": [{\"mark\": {\"type\": \"bar\", \"size\": 75}, \"encoding\": {\"color\": {\"condition\": {\"test\": \"(datum.count > 5500)\", \"value\": \"red\"}, \"value\": \"steelblue\"}, \"x\": {\"field\": \"count\", \"title\": \"Number of Complains\", \"type\": \"quantitative\"}, \"y\": {\"field\": \"Borough\", \"sort\": \"-x\", \"title\": \"NYC Boroughs\", \"type\": \"nominal\"}}}, {\"mark\": {\"type\": \"text\", \"align\": \"left\", \"baseline\": \"middle\", \"dx\": 3, \"fontSize\": 15, \"fontStyle\": \"bold\"}, \"encoding\": {\"color\": {\"condition\": {\"test\": \"(datum.count > 5500)\", \"value\": \"red\"}, \"value\": \"steelblue\"}, \"text\": {\"field\": \"count\", \"type\": \"quantitative\"}, \"x\": {\"field\": \"count\", \"title\": \"Number of Complains\", \"type\": \"quantitative\"}, \"y\": {\"field\": \"Borough\", \"sort\": \"-x\", \"title\": \"NYC Boroughs\", \"type\": \"nominal\"}}}], \"data\": {\"name\": \"data-e6544e490679ac5a301cb0c046b99d48\"}, \"height\": 600, \"title\": \"311 calls for rodent complaints (2020)\", \"width\": \"container\", \"$schema\": \"https://vega.github.io/schema/vega-lite/v5.8.0.json\", \"datasets\": {\"data-e6544e490679ac5a301cb0c046b99d48\": [{\"year\": 2020, \"Borough\": \"BROOKLYN\", \"count\": 5995}, {\"year\": 2020, \"Borough\": \"MANHATTAN\", \"count\": 4180}, {\"year\": 2020, \"Borough\": \"BRONX\", \"count\": 2762}, {\"year\": 2020, \"Borough\": \"QUEENS\", \"count\": 2711}, {\"year\": 2020, \"Borough\": \"STATEN ISLAND\", \"count\": 614}]}}, {\"mode\": \"vega-lite\"});\n",
       "</script>"
      ],
      "text/plain": [
       "alt.LayerChart(...)"
      ]
     },
     "execution_count": 32,
     "metadata": {},
     "output_type": "execute_result"
    }
   ],
   "source": [
    "bars2020 = alt.Chart(year2020.head(5)).mark_bar(size=75).encode(\n",
    "    x = alt.X(\"count\", title=\"Number of Complains\"),\n",
    "    y = alt.Y('Borough:N', title=\"NYC Boroughs\").sort('-x'),\n",
    "    color= alt.condition(\n",
    "        alt.datum.count > 5500, \n",
    "        alt.value(\"red\"),\n",
    "        alt.value(\"steelblue\"))\n",
    ")\n",
    "\n",
    "text2020 = bars2020.mark_text(\n",
    "    align='left',\n",
    "    baseline='middle',\n",
    "    dx=3,  # Nudges text to right so it doesn't appear on top of the bar\n",
    "    fontStyle='bold',\n",
    "    fontSize= 15\n",
    ").encode(text='count:Q')\n",
    "\n",
    "complains2020 = (bars2020 + text2020).properties(width = 'container', height = 600, \n",
    "    title = \"311 calls for rodent complaints (2020)\").configure_title(\n",
    "    fontSize=20).configure_view(strokeWidth=0).configure_axis(labelFontSize=13,\n",
    "    titleFontSize=18, grid=False)\n",
    "\n",
    "complains2020"
   ]
  },
  {
   "cell_type": "code",
   "execution_count": 10,
   "id": "479a2988",
   "metadata": {},
   "outputs": [],
   "source": [
    "complains2020.save('complaints by borough 2020.html', embed_options={'renderer':'svg'})"
   ]
  },
  {
   "cell_type": "code",
   "execution_count": 33,
   "id": "5210b089",
   "metadata": {},
   "outputs": [
    {
     "data": {
      "text/html": [
       "<div>\n",
       "<style scoped>\n",
       "    .dataframe tbody tr th:only-of-type {\n",
       "        vertical-align: middle;\n",
       "    }\n",
       "\n",
       "    .dataframe tbody tr th {\n",
       "        vertical-align: top;\n",
       "    }\n",
       "\n",
       "    .dataframe thead th {\n",
       "        text-align: right;\n",
       "    }\n",
       "</style>\n",
       "<table border=\"1\" class=\"dataframe\">\n",
       "  <thead>\n",
       "    <tr style=\"text-align: right;\">\n",
       "      <th></th>\n",
       "      <th>year</th>\n",
       "      <th>Borough</th>\n",
       "      <th>count</th>\n",
       "    </tr>\n",
       "  </thead>\n",
       "  <tbody>\n",
       "    <tr>\n",
       "      <th>58</th>\n",
       "      <td>2021</td>\n",
       "      <td>BROOKLYN</td>\n",
       "      <td>9500</td>\n",
       "    </tr>\n",
       "    <tr>\n",
       "      <th>59</th>\n",
       "      <td>2021</td>\n",
       "      <td>MANHATTAN</td>\n",
       "      <td>6947</td>\n",
       "    </tr>\n",
       "    <tr>\n",
       "      <th>60</th>\n",
       "      <td>2021</td>\n",
       "      <td>BRONX</td>\n",
       "      <td>4469</td>\n",
       "    </tr>\n",
       "    <tr>\n",
       "      <th>61</th>\n",
       "      <td>2021</td>\n",
       "      <td>QUEENS</td>\n",
       "      <td>3400</td>\n",
       "    </tr>\n",
       "    <tr>\n",
       "      <th>62</th>\n",
       "      <td>2021</td>\n",
       "      <td>STATEN ISLAND</td>\n",
       "      <td>694</td>\n",
       "    </tr>\n",
       "  </tbody>\n",
       "</table>\n",
       "</div>"
      ],
      "text/plain": [
       "    year        Borough  count\n",
       "58  2021       BROOKLYN   9500\n",
       "59  2021      MANHATTAN   6947\n",
       "60  2021          BRONX   4469\n",
       "61  2021         QUEENS   3400\n",
       "62  2021  STATEN ISLAND    694"
      ]
     },
     "execution_count": 33,
     "metadata": {},
     "output_type": "execute_result"
    }
   ],
   "source": [
    "year2021 = year_borough.loc[year_borough['year'] == 2021]\n",
    "year2021"
   ]
  },
  {
   "cell_type": "code",
   "execution_count": 34,
   "id": "ee9dc399",
   "metadata": {},
   "outputs": [
    {
     "data": {
      "text/plain": [
       "25010"
      ]
     },
     "execution_count": 34,
     "metadata": {},
     "output_type": "execute_result"
    }
   ],
   "source": [
    "year2021['count'].sum()"
   ]
  },
  {
   "cell_type": "code",
   "execution_count": 35,
   "id": "f1fcb2cb",
   "metadata": {},
   "outputs": [
    {
     "data": {
      "text/plain": [
       "<Axes: xlabel='Borough'>"
      ]
     },
     "execution_count": 35,
     "metadata": {},
     "output_type": "execute_result"
    },
    {
     "data": {
      "image/png": "[encoded data removed]",
      "text/plain": [
       "<Figure size 700x500 with 1 Axes>"
      ]
     },
     "metadata": {},
     "output_type": "display_data"
    }
   ],
   "source": [
    "year2021.sort_values(by='count', ascending=False).plot(x='Borough', y='count', ylim=(0, 10000), kind='bar', figsize=(7,5))"
   ]
  },
  {
   "cell_type": "code",
   "execution_count": 37,
   "id": "152e4282",
   "metadata": {},
   "outputs": [
    {
     "data": {
      "text/html": [
       "\n",
       "<style>\n",
       "  #altair-viz-dd018143a71944ef9999ee95364896e4.vega-embed {\n",
       "    width: 100%;\n",
       "    display: flex;\n",
       "  }\n",
       "\n",
       "  #altair-viz-dd018143a71944ef9999ee95364896e4.vega-embed details,\n",
       "  #altair-viz-dd018143a71944ef9999ee95364896e4.vega-embed details summary {\n",
       "    position: relative;\n",
       "  }\n",
       "</style>\n",
       "<div id=\"altair-viz-dd018143a71944ef9999ee95364896e4\"></div>\n",
       "<script type=\"text/javascript\">\n",
       "  var VEGA_DEBUG = (typeof VEGA_DEBUG == \"undefined\") ? {} : VEGA_DEBUG;\n",
       "  (function(spec, embedOpt){\n",
       "    let outputDiv = document.currentScript.previousElementSibling;\n",
       "    if (outputDiv.id !== \"altair-viz-dd018143a71944ef9999ee95364896e4\") {\n",
       "      outputDiv = document.getElementById(\"altair-viz-dd018143a71944ef9999ee95364896e4\");\n",
       "    }\n",
       "    const paths = {\n",
       "      \"vega\": \"https://cdn.jsdelivr.net/npm/vega@5?noext\",\n",
       "      \"vega-lib\": \"https://cdn.jsdelivr.net/npm/vega-lib?noext\",\n",
       "      \"vega-lite\": \"https://cdn.jsdelivr.net/npm/vega-lite@5.8.0?noext\",\n",
       "      \"vega-embed\": \"https://cdn.jsdelivr.net/npm/vega-embed@6?noext\",\n",
       "    };\n",
       "\n",
       "    function maybeLoadScript(lib, version) {\n",
       "      var key = `${lib.replace(\"-\", \"\")}_version`;\n",
       "      return (VEGA_DEBUG[key] == version) ?\n",
       "        Promise.resolve(paths[lib]) :\n",
       "        new Promise(function(resolve, reject) {\n",
       "          var s = document.createElement('script');\n",
       "          document.getElementsByTagName(\"head\")[0].appendChild(s);\n",
       "          s.async = true;\n",
       "          s.onload = () => {\n",
       "            VEGA_DEBUG[key] = version;\n",
       "            return resolve(paths[lib]);\n",
       "          };\n",
       "          s.onerror = () => reject(`Error loading script: ${paths[lib]}`);\n",
       "          s.src = paths[lib];\n",
       "        });\n",
       "    }\n",
       "\n",
       "    function showError(err) {\n",
       "      outputDiv.innerHTML = `<div class=\"error\" style=\"color:red;\">${err}</div>`;\n",
       "      throw err;\n",
       "    }\n",
       "\n",
       "    function displayChart(vegaEmbed) {\n",
       "      vegaEmbed(outputDiv, spec, embedOpt)\n",
       "        .catch(err => showError(`Javascript Error: ${err.message}<br>This usually means there's a typo in your chart specification. See the javascript console for the full traceback.`));\n",
       "    }\n",
       "\n",
       "    if(typeof define === \"function\" && define.amd) {\n",
       "      requirejs.config({paths});\n",
       "      require([\"vega-embed\"], displayChart, err => showError(`Error loading script: ${err.message}`));\n",
       "    } else {\n",
       "      maybeLoadScript(\"vega\", \"5\")\n",
       "        .then(() => maybeLoadScript(\"vega-lite\", \"5.8.0\"))\n",
       "        .then(() => maybeLoadScript(\"vega-embed\", \"6\"))\n",
       "        .catch(showError)\n",
       "        .then(() => displayChart(vegaEmbed));\n",
       "    }\n",
       "  })({\"config\": {\"view\": {\"continuousWidth\": 300, \"continuousHeight\": 300, \"strokeWidth\": 0}, \"axis\": {\"grid\": false, \"labelFontSize\": 13, \"titleFontSize\": 18}, \"title\": {\"fontSize\": 20}}, \"layer\": [{\"mark\": {\"type\": \"bar\", \"size\": 75}, \"encoding\": {\"color\": {\"condition\": {\"test\": \"(datum.count > 9000)\", \"value\": \"red\"}, \"value\": \"steelblue\"}, \"x\": {\"field\": \"count\", \"title\": \"Number of Complains\", \"type\": \"quantitative\"}, \"y\": {\"field\": \"Borough\", \"sort\": \"-x\", \"title\": \"NYC Boroughs\", \"type\": \"nominal\"}}}, {\"mark\": {\"type\": \"text\", \"align\": \"left\", \"baseline\": \"middle\", \"dx\": 3, \"fontSize\": 15, \"fontStyle\": \"bold\"}, \"encoding\": {\"color\": {\"condition\": {\"test\": \"(datum.count > 9000)\", \"value\": \"red\"}, \"value\": \"steelblue\"}, \"text\": {\"field\": \"count\", \"type\": \"quantitative\"}, \"x\": {\"field\": \"count\", \"title\": \"Number of Complains\", \"type\": \"quantitative\"}, \"y\": {\"field\": \"Borough\", \"sort\": \"-x\", \"title\": \"NYC Boroughs\", \"type\": \"nominal\"}}}], \"data\": {\"name\": \"data-3fa5828e0617523807155bef5e6edfbf\"}, \"height\": 600, \"title\": \"311 calls for rodent complaints (2021)\", \"width\": \"container\", \"$schema\": \"https://vega.github.io/schema/vega-lite/v5.8.0.json\", \"datasets\": {\"data-3fa5828e0617523807155bef5e6edfbf\": [{\"year\": 2021, \"Borough\": \"BROOKLYN\", \"count\": 9500}, {\"year\": 2021, \"Borough\": \"MANHATTAN\", \"count\": 6947}, {\"year\": 2021, \"Borough\": \"BRONX\", \"count\": 4469}, {\"year\": 2021, \"Borough\": \"QUEENS\", \"count\": 3400}, {\"year\": 2021, \"Borough\": \"STATEN ISLAND\", \"count\": 694}]}}, {\"mode\": \"vega-lite\"});\n",
       "</script>"
      ],
      "text/plain": [
       "alt.LayerChart(...)"
      ]
     },
     "execution_count": 37,
     "metadata": {},
     "output_type": "execute_result"
    }
   ],
   "source": [
    "bars2021 = alt.Chart(year2021.head(5)).mark_bar(size=75).encode(\n",
    "    x = alt.X(\"count\", title=\"Number of Complains\"),\n",
    "    y = alt.Y('Borough:N', title=\"NYC Boroughs\").sort('-x'),\n",
    "    color= alt.condition(\n",
    "        alt.datum.count > 9000, \n",
    "        alt.value(\"red\"),\n",
    "        alt.value(\"steelblue\"))\n",
    ")\n",
    "\n",
    "text2021 = bars2021.mark_text(\n",
    "    align='left',\n",
    "    baseline='middle',\n",
    "    dx=3,  # Nudges text to right so it doesn't appear on top of the bar\n",
    "    fontStyle='bold',\n",
    "    fontSize= 15\n",
    ").encode(text='count:Q')\n",
    "\n",
    "complains2021 = (bars2021 + text2021).properties(width = 'container', height = 600, \n",
    "    title = \"311 calls for rodent complaints (2021)\").configure_title(\n",
    "    fontSize=20).configure_view(strokeWidth=0).configure_axis(labelFontSize=13,\n",
    "    titleFontSize=18, grid=False)\n",
    "\n",
    "complains2021"
   ]
  },
  {
   "cell_type": "code",
   "execution_count": 138,
   "id": "2e1a1d79",
   "metadata": {},
   "outputs": [],
   "source": [
    "complains2021.save('complaints by borough 2021.html', embed_options={'renderer':'svg'})"
   ]
  },
  {
   "cell_type": "code",
   "execution_count": 38,
   "id": "9d261156",
   "metadata": {},
   "outputs": [
    {
     "data": {
      "text/html": [
       "<div>\n",
       "<style scoped>\n",
       "    .dataframe tbody tr th:only-of-type {\n",
       "        vertical-align: middle;\n",
       "    }\n",
       "\n",
       "    .dataframe tbody tr th {\n",
       "        vertical-align: top;\n",
       "    }\n",
       "\n",
       "    .dataframe thead th {\n",
       "        text-align: right;\n",
       "    }\n",
       "</style>\n",
       "<table border=\"1\" class=\"dataframe\">\n",
       "  <thead>\n",
       "    <tr style=\"text-align: right;\">\n",
       "      <th></th>\n",
       "      <th>year</th>\n",
       "      <th>Borough</th>\n",
       "      <th>count</th>\n",
       "    </tr>\n",
       "  </thead>\n",
       "  <tbody>\n",
       "    <tr>\n",
       "      <th>63</th>\n",
       "      <td>2022</td>\n",
       "      <td>BROOKLYN</td>\n",
       "      <td>10122</td>\n",
       "    </tr>\n",
       "    <tr>\n",
       "      <th>64</th>\n",
       "      <td>2022</td>\n",
       "      <td>MANHATTAN</td>\n",
       "      <td>7455</td>\n",
       "    </tr>\n",
       "    <tr>\n",
       "      <th>65</th>\n",
       "      <td>2022</td>\n",
       "      <td>BRONX</td>\n",
       "      <td>4127</td>\n",
       "    </tr>\n",
       "    <tr>\n",
       "      <th>66</th>\n",
       "      <td>2022</td>\n",
       "      <td>QUEENS</td>\n",
       "      <td>4092</td>\n",
       "    </tr>\n",
       "    <tr>\n",
       "      <th>67</th>\n",
       "      <td>2022</td>\n",
       "      <td>STATEN ISLAND</td>\n",
       "      <td>700</td>\n",
       "    </tr>\n",
       "    <tr>\n",
       "      <th>68</th>\n",
       "      <td>2022</td>\n",
       "      <td>Unspecified</td>\n",
       "      <td>4</td>\n",
       "    </tr>\n",
       "  </tbody>\n",
       "</table>\n",
       "</div>"
      ],
      "text/plain": [
       "    year        Borough  count\n",
       "63  2022       BROOKLYN  10122\n",
       "64  2022      MANHATTAN   7455\n",
       "65  2022          BRONX   4127\n",
       "66  2022         QUEENS   4092\n",
       "67  2022  STATEN ISLAND    700\n",
       "68  2022    Unspecified      4"
      ]
     },
     "execution_count": 38,
     "metadata": {},
     "output_type": "execute_result"
    }
   ],
   "source": [
    "year2022 = year_borough.loc[year_borough['year'] == 2022]\n",
    "year2022"
   ]
  },
  {
   "cell_type": "code",
   "execution_count": 39,
   "id": "280aca49",
   "metadata": {},
   "outputs": [
    {
     "data": {
      "text/plain": [
       "26500"
      ]
     },
     "execution_count": 39,
     "metadata": {},
     "output_type": "execute_result"
    }
   ],
   "source": [
    "year2022['count'].sum()"
   ]
  },
  {
   "cell_type": "code",
   "execution_count": 40,
   "id": "e42f5d07",
   "metadata": {},
   "outputs": [
    {
     "data": {
      "text/plain": [
       "<Axes: xlabel='Borough'>"
      ]
     },
     "execution_count": 40,
     "metadata": {},
     "output_type": "execute_result"
    },
    {
     "data": {
      "image/png": "[encoded data removed]",
      "text/plain": [
       "<Figure size 700x500 with 1 Axes>"
      ]
     },
     "metadata": {},
     "output_type": "display_data"
    }
   ],
   "source": [
    "year2022.sort_values(by='count', ascending=False).plot(x='Borough', y='count', kind='bar', figsize=(7,5))"
   ]
  },
  {
   "cell_type": "code",
   "execution_count": 42,
   "id": "795ee926",
   "metadata": {},
   "outputs": [
    {
     "data": {
      "text/html": [
       "\n",
       "<style>\n",
       "  #altair-viz-60b4283ff2c348c198450c64f5a5d9e3.vega-embed {\n",
       "    width: 100%;\n",
       "    display: flex;\n",
       "  }\n",
       "\n",
       "  #altair-viz-60b4283ff2c348c198450c64f5a5d9e3.vega-embed details,\n",
       "  #altair-viz-60b4283ff2c348c198450c64f5a5d9e3.vega-embed details summary {\n",
       "    position: relative;\n",
       "  }\n",
       "</style>\n",
       "<div id=\"altair-viz-60b4283ff2c348c198450c64f5a5d9e3\"></div>\n",
       "<script type=\"text/javascript\">\n",
       "  var VEGA_DEBUG = (typeof VEGA_DEBUG == \"undefined\") ? {} : VEGA_DEBUG;\n",
       "  (function(spec, embedOpt){\n",
       "    let outputDiv = document.currentScript.previousElementSibling;\n",
       "    if (outputDiv.id !== \"altair-viz-60b4283ff2c348c198450c64f5a5d9e3\") {\n",
       "      outputDiv = document.getElementById(\"altair-viz-60b4283ff2c348c198450c64f5a5d9e3\");\n",
       "    }\n",
       "    const paths = {\n",
       "      \"vega\": \"https://cdn.jsdelivr.net/npm/vega@5?noext\",\n",
       "      \"vega-lib\": \"https://cdn.jsdelivr.net/npm/vega-lib?noext\",\n",
       "      \"vega-lite\": \"https://cdn.jsdelivr.net/npm/vega-lite@5.8.0?noext\",\n",
       "      \"vega-embed\": \"https://cdn.jsdelivr.net/npm/vega-embed@6?noext\",\n",
       "    };\n",
       "\n",
       "    function maybeLoadScript(lib, version) {\n",
       "      var key = `${lib.replace(\"-\", \"\")}_version`;\n",
       "      return (VEGA_DEBUG[key] == version) ?\n",
       "        Promise.resolve(paths[lib]) :\n",
       "        new Promise(function(resolve, reject) {\n",
       "          var s = document.createElement('script');\n",
       "          document.getElementsByTagName(\"head\")[0].appendChild(s);\n",
       "          s.async = true;\n",
       "          s.onload = () => {\n",
       "            VEGA_DEBUG[key] = version;\n",
       "            return resolve(paths[lib]);\n",
       "          };\n",
       "          s.onerror = () => reject(`Error loading script: ${paths[lib]}`);\n",
       "          s.src = paths[lib];\n",
       "        });\n",
       "    }\n",
       "\n",
       "    function showError(err) {\n",
       "      outputDiv.innerHTML = `<div class=\"error\" style=\"color:red;\">${err}</div>`;\n",
       "      throw err;\n",
       "    }\n",
       "\n",
       "    function displayChart(vegaEmbed) {\n",
       "      vegaEmbed(outputDiv, spec, embedOpt)\n",
       "        .catch(err => showError(`Javascript Error: ${err.message}<br>This usually means there's a typo in your chart specification. See the javascript console for the full traceback.`));\n",
       "    }\n",
       "\n",
       "    if(typeof define === \"function\" && define.amd) {\n",
       "      requirejs.config({paths});\n",
       "      require([\"vega-embed\"], displayChart, err => showError(`Error loading script: ${err.message}`));\n",
       "    } else {\n",
       "      maybeLoadScript(\"vega\", \"5\")\n",
       "        .then(() => maybeLoadScript(\"vega-lite\", \"5.8.0\"))\n",
       "        .then(() => maybeLoadScript(\"vega-embed\", \"6\"))\n",
       "        .catch(showError)\n",
       "        .then(() => displayChart(vegaEmbed));\n",
       "    }\n",
       "  })({\"config\": {\"view\": {\"continuousWidth\": 300, \"continuousHeight\": 300, \"strokeWidth\": 0}, \"axis\": {\"grid\": false, \"labelFontSize\": 13, \"titleFontSize\": 18}, \"title\": {\"fontSize\": 20}}, \"layer\": [{\"mark\": {\"type\": \"bar\", \"size\": 75}, \"encoding\": {\"color\": {\"condition\": {\"test\": \"(datum.count > 10000)\", \"value\": \"red\"}, \"value\": \"steelblue\"}, \"x\": {\"field\": \"count\", \"title\": \"Number of Complains\", \"type\": \"quantitative\"}, \"y\": {\"field\": \"Borough\", \"sort\": \"-x\", \"title\": \"NYC Boroughs\", \"type\": \"nominal\"}}}, {\"mark\": {\"type\": \"text\", \"align\": \"left\", \"baseline\": \"middle\", \"dx\": 3, \"fontSize\": 15, \"fontStyle\": \"bold\"}, \"encoding\": {\"color\": {\"condition\": {\"test\": \"(datum.count > 10000)\", \"value\": \"red\"}, \"value\": \"steelblue\"}, \"text\": {\"field\": \"count\", \"type\": \"quantitative\"}, \"x\": {\"field\": \"count\", \"title\": \"Number of Complains\", \"type\": \"quantitative\"}, \"y\": {\"field\": \"Borough\", \"sort\": \"-x\", \"title\": \"NYC Boroughs\", \"type\": \"nominal\"}}}], \"data\": {\"name\": \"data-d6ba38a8d4e66e8e00bee9a5854ca68d\"}, \"height\": 600, \"title\": \"311 calls for rodent complaints (2022)\", \"width\": \"container\", \"$schema\": \"https://vega.github.io/schema/vega-lite/v5.8.0.json\", \"datasets\": {\"data-d6ba38a8d4e66e8e00bee9a5854ca68d\": [{\"year\": 2022, \"Borough\": \"BROOKLYN\", \"count\": 10122}, {\"year\": 2022, \"Borough\": \"MANHATTAN\", \"count\": 7455}, {\"year\": 2022, \"Borough\": \"BRONX\", \"count\": 4127}, {\"year\": 2022, \"Borough\": \"QUEENS\", \"count\": 4092}, {\"year\": 2022, \"Borough\": \"STATEN ISLAND\", \"count\": 700}]}}, {\"mode\": \"vega-lite\"});\n",
       "</script>"
      ],
      "text/plain": [
       "alt.LayerChart(...)"
      ]
     },
     "execution_count": 42,
     "metadata": {},
     "output_type": "execute_result"
    }
   ],
   "source": [
    "bars2022 = alt.Chart(year2022.head(5)).mark_bar(size=75).encode(\n",
    "    x = alt.X(\"count\", title=\"Number of Complains\"),\n",
    "    y = alt.Y('Borough:N', title=\"NYC Boroughs\").sort('-x'),\n",
    "    color= alt.condition(\n",
    "        alt.datum.count > 10000, \n",
    "        alt.value(\"red\"),\n",
    "        alt.value(\"steelblue\"))\n",
    ")\n",
    "\n",
    "text2022 = bars2022.mark_text(\n",
    "    align='left',\n",
    "    baseline='middle',\n",
    "    dx=3,  # Nudges text to right so it doesn't appear on top of the bar\n",
    "    fontStyle='bold',\n",
    "    fontSize= 15\n",
    ").encode(text='count:Q')\n",
    "\n",
    "complains2022 = (bars2022 + text2022).properties(width = 'container', height = 600, \n",
    "    title = \"311 calls for rodent complaints (2022)\").configure_title(\n",
    "    fontSize=20).configure_view(strokeWidth=0).configure_axis(labelFontSize=13,\n",
    "    titleFontSize=18, grid=False)\n",
    "\n",
    "complains2022"
   ]
  },
  {
   "cell_type": "code",
   "execution_count": 144,
   "id": "3ebf934e",
   "metadata": {},
   "outputs": [],
   "source": [
    "complains2022.save('complaints by borough 2022.html', embed_options={'renderer':'svg'})"
   ]
  },
  {
   "cell_type": "code",
   "execution_count": 43,
   "id": "dd7f64f0",
   "metadata": {},
   "outputs": [
    {
     "data": {
      "text/html": [
       "<div>\n",
       "<style scoped>\n",
       "    .dataframe tbody tr th:only-of-type {\n",
       "        vertical-align: middle;\n",
       "    }\n",
       "\n",
       "    .dataframe tbody tr th {\n",
       "        vertical-align: top;\n",
       "    }\n",
       "\n",
       "    .dataframe thead th {\n",
       "        text-align: right;\n",
       "    }\n",
       "</style>\n",
       "<table border=\"1\" class=\"dataframe\">\n",
       "  <thead>\n",
       "    <tr style=\"text-align: right;\">\n",
       "      <th></th>\n",
       "      <th>year</th>\n",
       "      <th>Borough</th>\n",
       "      <th>count</th>\n",
       "    </tr>\n",
       "  </thead>\n",
       "  <tbody>\n",
       "    <tr>\n",
       "      <th>69</th>\n",
       "      <td>2023</td>\n",
       "      <td>BROOKLYN</td>\n",
       "      <td>4745</td>\n",
       "    </tr>\n",
       "    <tr>\n",
       "      <th>70</th>\n",
       "      <td>2023</td>\n",
       "      <td>MANHATTAN</td>\n",
       "      <td>3186</td>\n",
       "    </tr>\n",
       "    <tr>\n",
       "      <th>71</th>\n",
       "      <td>2023</td>\n",
       "      <td>QUEENS</td>\n",
       "      <td>2073</td>\n",
       "    </tr>\n",
       "    <tr>\n",
       "      <th>72</th>\n",
       "      <td>2023</td>\n",
       "      <td>BRONX</td>\n",
       "      <td>1608</td>\n",
       "    </tr>\n",
       "    <tr>\n",
       "      <th>73</th>\n",
       "      <td>2023</td>\n",
       "      <td>STATEN ISLAND</td>\n",
       "      <td>312</td>\n",
       "    </tr>\n",
       "    <tr>\n",
       "      <th>74</th>\n",
       "      <td>2023</td>\n",
       "      <td>Unspecified</td>\n",
       "      <td>3</td>\n",
       "    </tr>\n",
       "  </tbody>\n",
       "</table>\n",
       "</div>"
      ],
      "text/plain": [
       "    year        Borough  count\n",
       "69  2023       BROOKLYN   4745\n",
       "70  2023      MANHATTAN   3186\n",
       "71  2023         QUEENS   2073\n",
       "72  2023          BRONX   1608\n",
       "73  2023  STATEN ISLAND    312\n",
       "74  2023    Unspecified      3"
      ]
     },
     "execution_count": 43,
     "metadata": {},
     "output_type": "execute_result"
    }
   ],
   "source": [
    "year2023 = year_borough.loc[year_borough['year'] == 2023]\n",
    "year2023"
   ]
  },
  {
   "cell_type": "code",
   "execution_count": 44,
   "id": "1eb6d396",
   "metadata": {},
   "outputs": [
    {
     "data": {
      "text/plain": [
       "11927"
      ]
     },
     "execution_count": 44,
     "metadata": {},
     "output_type": "execute_result"
    }
   ],
   "source": [
    "year2023['count'].sum()"
   ]
  },
  {
   "cell_type": "code",
   "execution_count": 45,
   "id": "f79dcb50",
   "metadata": {},
   "outputs": [
    {
     "data": {
      "text/plain": [
       "<Axes: xlabel='Borough'>"
      ]
     },
     "execution_count": 45,
     "metadata": {},
     "output_type": "execute_result"
    },
    {
     "data": {
      "image/png": "[encoded data removed]",
      "text/plain": [
       "<Figure size 700x500 with 1 Axes>"
      ]
     },
     "metadata": {},
     "output_type": "display_data"
    }
   ],
   "source": [
    "year2023.sort_values(by='count', ascending=False).plot(x='Borough', y='count', kind='bar', figsize=(7,5))"
   ]
  },
  {
   "cell_type": "code",
   "execution_count": 46,
   "id": "11d8ae9f",
   "metadata": {
    "scrolled": false
   },
   "outputs": [
    {
     "data": {
      "text/html": [
       "\n",
       "<style>\n",
       "  #altair-viz-23e0805cad554125a1370c5fb3559167.vega-embed {\n",
       "    width: 100%;\n",
       "    display: flex;\n",
       "  }\n",
       "\n",
       "  #altair-viz-23e0805cad554125a1370c5fb3559167.vega-embed details,\n",
       "  #altair-viz-23e0805cad554125a1370c5fb3559167.vega-embed details summary {\n",
       "    position: relative;\n",
       "  }\n",
       "</style>\n",
       "<div id=\"altair-viz-23e0805cad554125a1370c5fb3559167\"></div>\n",
       "<script type=\"text/javascript\">\n",
       "  var VEGA_DEBUG = (typeof VEGA_DEBUG == \"undefined\") ? {} : VEGA_DEBUG;\n",
       "  (function(spec, embedOpt){\n",
       "    let outputDiv = document.currentScript.previousElementSibling;\n",
       "    if (outputDiv.id !== \"altair-viz-23e0805cad554125a1370c5fb3559167\") {\n",
       "      outputDiv = document.getElementById(\"altair-viz-23e0805cad554125a1370c5fb3559167\");\n",
       "    }\n",
       "    const paths = {\n",
       "      \"vega\": \"https://cdn.jsdelivr.net/npm/vega@5?noext\",\n",
       "      \"vega-lib\": \"https://cdn.jsdelivr.net/npm/vega-lib?noext\",\n",
       "      \"vega-lite\": \"https://cdn.jsdelivr.net/npm/vega-lite@5.8.0?noext\",\n",
       "      \"vega-embed\": \"https://cdn.jsdelivr.net/npm/vega-embed@6?noext\",\n",
       "    };\n",
       "\n",
       "    function maybeLoadScript(lib, version) {\n",
       "      var key = `${lib.replace(\"-\", \"\")}_version`;\n",
       "      return (VEGA_DEBUG[key] == version) ?\n",
       "        Promise.resolve(paths[lib]) :\n",
       "        new Promise(function(resolve, reject) {\n",
       "          var s = document.createElement('script');\n",
       "          document.getElementsByTagName(\"head\")[0].appendChild(s);\n",
       "          s.async = true;\n",
       "          s.onload = () => {\n",
       "            VEGA_DEBUG[key] = version;\n",
       "            return resolve(paths[lib]);\n",
       "          };\n",
       "          s.onerror = () => reject(`Error loading script: ${paths[lib]}`);\n",
       "          s.src = paths[lib];\n",
       "        });\n",
       "    }\n",
       "\n",
       "    function showError(err) {\n",
       "      outputDiv.innerHTML = `<div class=\"error\" style=\"color:red;\">${err}</div>`;\n",
       "      throw err;\n",
       "    }\n",
       "\n",
       "    function displayChart(vegaEmbed) {\n",
       "      vegaEmbed(outputDiv, spec, embedOpt)\n",
       "        .catch(err => showError(`Javascript Error: ${err.message}<br>This usually means there's a typo in your chart specification. See the javascript console for the full traceback.`));\n",
       "    }\n",
       "\n",
       "    if(typeof define === \"function\" && define.amd) {\n",
       "      requirejs.config({paths});\n",
       "      require([\"vega-embed\"], displayChart, err => showError(`Error loading script: ${err.message}`));\n",
       "    } else {\n",
       "      maybeLoadScript(\"vega\", \"5\")\n",
       "        .then(() => maybeLoadScript(\"vega-lite\", \"5.8.0\"))\n",
       "        .then(() => maybeLoadScript(\"vega-embed\", \"6\"))\n",
       "        .catch(showError)\n",
       "        .then(() => displayChart(vegaEmbed));\n",
       "    }\n",
       "  })({\"config\": {\"view\": {\"continuousWidth\": 300, \"continuousHeight\": 300, \"strokeWidth\": 0}, \"axis\": {\"grid\": false, \"labelFontSize\": 13, \"titleFontSize\": 18}, \"title\": {\"fontSize\": 20}}, \"layer\": [{\"mark\": {\"type\": \"bar\", \"size\": 75}, \"encoding\": {\"color\": {\"condition\": {\"test\": \"(datum.count > 4500)\", \"value\": \"red\"}, \"value\": \"steelblue\"}, \"x\": {\"field\": \"count\", \"title\": \"Number of Complains\", \"type\": \"quantitative\"}, \"y\": {\"field\": \"Borough\", \"sort\": \"-x\", \"title\": \"NYC Boroughs\", \"type\": \"nominal\"}}}, {\"mark\": {\"type\": \"text\", \"align\": \"left\", \"baseline\": \"middle\", \"dx\": 3, \"fontSize\": 15, \"fontStyle\": \"bold\"}, \"encoding\": {\"color\": {\"condition\": {\"test\": \"(datum.count > 4500)\", \"value\": \"red\"}, \"value\": \"steelblue\"}, \"text\": {\"field\": \"count\", \"type\": \"quantitative\"}, \"x\": {\"field\": \"count\", \"title\": \"Number of Complains\", \"type\": \"quantitative\"}, \"y\": {\"field\": \"Borough\", \"sort\": \"-x\", \"title\": \"NYC Boroughs\", \"type\": \"nominal\"}}}], \"data\": {\"name\": \"data-71effd56b4e7e685255bc9804ac24c74\"}, \"height\": 600, \"title\": \"311 calls for rodent complaints (2023)\", \"width\": \"container\", \"$schema\": \"https://vega.github.io/schema/vega-lite/v5.8.0.json\", \"datasets\": {\"data-71effd56b4e7e685255bc9804ac24c74\": [{\"year\": 2023, \"Borough\": \"BROOKLYN\", \"count\": 4745}, {\"year\": 2023, \"Borough\": \"MANHATTAN\", \"count\": 3186}, {\"year\": 2023, \"Borough\": \"QUEENS\", \"count\": 2073}, {\"year\": 2023, \"Borough\": \"BRONX\", \"count\": 1608}, {\"year\": 2023, \"Borough\": \"STATEN ISLAND\", \"count\": 312}]}}, {\"mode\": \"vega-lite\"});\n",
       "</script>"
      ],
      "text/plain": [
       "alt.LayerChart(...)"
      ]
     },
     "execution_count": 46,
     "metadata": {},
     "output_type": "execute_result"
    }
   ],
   "source": [
    "bars2023 = alt.Chart(year2023.head(5)).mark_bar(size=75).encode(\n",
    "    x = alt.X(\"count\", title=\"Number of Complains\"),\n",
    "    y = alt.Y('Borough:N', title=\"NYC Boroughs\").sort('-x'),\n",
    "    color= alt.condition(\n",
    "        alt.datum.count > 4500, \n",
    "        alt.value(\"red\"),\n",
    "        alt.value(\"steelblue\"))\n",
    ")\n",
    "\n",
    "text2023 = bars2023.mark_text(\n",
    "    align='left',\n",
    "    baseline='middle',\n",
    "    dx=3,  # Nudges text to right so it doesn't appear on top of the bar\n",
    "    fontStyle='bold',\n",
    "    fontSize= 15\n",
    ").encode(text='count:Q')\n",
    "\n",
    "complains2023 = (bars2023 + text2023).properties(width = 'container', height = 600, \n",
    "    title = \"311 calls for rodent complaints (2023)\").configure_title(\n",
    "    fontSize=20).configure_view(strokeWidth=0).configure_axis(labelFontSize=13,\n",
    "    titleFontSize=18, grid=False)\n",
    "\n",
    "complains2023"
   ]
  },
  {
   "cell_type": "code",
   "execution_count": 153,
   "id": "8824706c",
   "metadata": {},
   "outputs": [],
   "source": [
    "complains2023.save('complaints by borough 2023.html', embed_options={'renderer':'svg'})"
   ]
  },
  {
   "cell_type": "code",
   "execution_count": null,
   "id": "a9ac7a83",
   "metadata": {},
   "outputs": [],
   "source": []
  }
 ],
 "metadata": {
  "kernelspec": {
   "display_name": "Python 3 (ipykernel)",
   "language": "python",
   "name": "python3"
  },
  "language_info": {
   "codemirror_mode": {
    "name": "ipython",
    "version": 3
   },
   "file_extension": ".py",
   "mimetype": "text/x-python",
   "name": "python",
   "nbconvert_exporter": "python",
   "pygments_lexer": "ipython3",
   "version": "3.10.11"
  }
 },
 "nbformat": 4,
 "nbformat_minor": 5
}
